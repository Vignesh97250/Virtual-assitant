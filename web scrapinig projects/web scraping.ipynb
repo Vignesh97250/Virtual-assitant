{
 "cells": [
  {
   "cell_type": "code",
   "execution_count": 1,
   "id": "fd874928",
   "metadata": {},
   "outputs": [
    {
     "data": {
      "text/plain": [
       "6"
      ]
     },
     "execution_count": 1,
     "metadata": {},
     "output_type": "execute_result"
    }
   ],
   "source": [
    "2+4"
   ]
  },
  {
   "cell_type": "markdown",
   "id": "aabe3a9a",
   "metadata": {},
   "source": [
    "# web scraping"
   ]
  },
  {
   "cell_type": "markdown",
   "id": "998112f2",
   "metadata": {},
   "source": [
    " Working on Web scraoing"
   ]
  },
  {
   "cell_type": "markdown",
   "id": "9bf72aee",
   "metadata": {},
   "source": [
    "4 steps we follow in Web Scraping\n",
    "1)We connect to webpage (static/dynamic)\n"
   ]
  },
  {
   "cell_type": "code",
   "execution_count": 2,
   "id": "e07093c2",
   "metadata": {},
   "outputs": [],
   "source": [
    "#!pip install requests"
   ]
  },
  {
   "cell_type": "code",
   "execution_count": 3,
   "id": "635ceeab",
   "metadata": {},
   "outputs": [],
   "source": [
    "#!pip install bs4"
   ]
  },
  {
   "cell_type": "code",
   "execution_count": 4,
   "id": "0132ddc5",
   "metadata": {},
   "outputs": [],
   "source": [
    "import requests\n",
    "import bs4"
   ]
  },
  {
   "cell_type": "code",
   "execution_count": 7,
   "id": "e40a961e",
   "metadata": {},
   "outputs": [],
   "source": [
    "#help(requests)\n",
    "#help(bs4)"
   ]
  },
  {
   "cell_type": "code",
   "execution_count": 8,
   "id": "41db768c",
   "metadata": {},
   "outputs": [],
   "source": [
    "from bs4 import BeautifulSoup"
   ]
  },
  {
   "cell_type": "code",
   "execution_count": 9,
   "id": "661554a5",
   "metadata": {},
   "outputs": [],
   "source": [
    "#Let's choose our dynamic website\n",
    "url = \"https://www.makaan.com/bangalore-residential-property/buy-property-in-bangalore-city\""
   ]
  },
  {
   "cell_type": "code",
   "execution_count": 12,
   "id": "445afab5",
   "metadata": {},
   "outputs": [
    {
     "data": {
      "text/plain": [
       "<Response [200]>"
      ]
     },
     "execution_count": 12,
     "metadata": {},
     "output_type": "execute_result"
    }
   ],
   "source": [
    "#Connect to the website\n",
    "data = requests.get(url)\n",
    "data"
   ]
  },
  {
   "cell_type": "code",
   "execution_count": 14,
   "id": "0ae7b725",
   "metadata": {},
   "outputs": [
    {
     "data": {
      "text/plain": [
       "str"
      ]
     },
     "execution_count": 14,
     "metadata": {},
     "output_type": "execute_result"
    }
   ],
   "source": [
    "data.text\n",
    "type(data.text)"
   ]
  },
  {
   "cell_type": "code",
   "execution_count": 16,
   "id": "1843263e",
   "metadata": {},
   "outputs": [
    {
     "data": {
      "text/plain": [
       "bs4.BeautifulSoup"
      ]
     },
     "execution_count": 16,
     "metadata": {},
     "output_type": "execute_result"
    }
   ],
   "source": [
    "soup =BeautifulSoup(data.text,'html')\n",
    "soup\n",
    "type(soup)"
   ]
  },
  {
   "cell_type": "code",
   "execution_count": 24,
   "id": "9cf43864",
   "metadata": {},
   "outputs": [
    {
     "data": {
      "text/plain": [
       "'2 BHK Apartment in VBHC Palmhaven II Block A'"
      ]
     },
     "execution_count": 24,
     "metadata": {},
     "output_type": "execute_result"
    }
   ],
   "source": [
    "g = soup.find('div',attrs={'class':'title-line'}).text\n",
    "g"
   ]
  },
  {
   "cell_type": "code",
   "execution_count": 26,
   "id": "c46464d6",
   "metadata": {},
   "outputs": [
    {
     "data": {
      "text/plain": [
       "'48 L'"
      ]
     },
     "execution_count": 26,
     "metadata": {},
     "output_type": "execute_result"
    }
   ],
   "source": [
    "h =soup.find('div',attrs={'data-type':'price-link'}).text.strip()\n",
    "h"
   ]
  },
  {
   "cell_type": "code",
   "execution_count": 34,
   "id": "67bc1860",
   "metadata": {},
   "outputs": [
    {
     "data": {
      "text/plain": [
       "'Under Construction'"
      ]
     },
     "execution_count": 34,
     "metadata": {},
     "output_type": "execute_result"
    }
   ],
   "source": [
    "j = soup.find('td',attrs={'class':'val'}).text\n",
    "j"
   ]
  },
  {
   "cell_type": "code",
   "execution_count": 36,
   "id": "65017e2f",
   "metadata": {},
   "outputs": [
    {
     "data": {
      "text/plain": [
       "'902'"
      ]
     },
     "execution_count": 36,
     "metadata": {},
     "output_type": "execute_result"
    }
   ],
   "source": [
    "j = soup.find('td',attrs={'class':'size'}).text.strip()\n",
    "j\n"
   ]
  },
  {
   "cell_type": "code",
   "execution_count": 37,
   "id": "372e2b82",
   "metadata": {},
   "outputs": [
    {
     "data": {
      "text/plain": [
       "'home'"
      ]
     },
     "execution_count": 37,
     "metadata": {},
     "output_type": "execute_result"
    }
   ],
   "source": [
    "l = soup.find('span',attrs={'itemprop':'name'}).text\n",
    "l"
   ]
  },
  {
   "cell_type": "code",
   "execution_count": 39,
   "id": "e442019b",
   "metadata": {},
   "outputs": [],
   "source": [
    "#name = soup.find_all('div',attrs={'class':'title-line'}).text\n",
    "#name"
   ]
  },
  {
   "cell_type": "code",
   "execution_count": 60,
   "id": "6af8a4cb",
   "metadata": {},
   "outputs": [
    {
     "name": "stdout",
     "output_type": "stream",
     "text": [
      "[<div class=\"title-line\"><a class=\"typelink\" data-type=\"listing-link\" href=\"https://www.makaan.com/bangalore/vbhc-palmhaven-ii-block-a-in-kumbalgodu-20006695/2bhk-902-sqft-apartment\" itemprop=\"url\" target=\"_blank\"><meta content=\"2 BHK Apartment for sale\" id=\"itemNameFor-20006695\" itemprop=\"name\"/><strong><span class=\"val\">2 </span><span>BHK </span><span>Apartment</span></strong></a><span class=\"project-wrap\"> in <strong><a class=\"projName\" data-link-name=\"VBHC Palmhaven II Block A\" data-link-type=\"project overview\" data-track-label=\"20006695_1_1955997_select\" data-type=\"projName\" href=\"https://www.makaan.com/bangalore/vbhc-palmhaven-ii-block-a-in-kumbalgodu-1955997\" target=\"_blank\" title=\"Go to VBHC Palmhaven II Block A\"><span>VBHC Palmhaven II Block A</span></a></strong></span><div class=\"rera-tag-new\" title=\"Rera Approved Project\"><img alt=\"Rera Approved Project\" src=\"//static.makaan.com/images/un-versioned/rera-tag.svg\"/></div></div>, <div class=\"title-line\"><a class=\"typelink\" data-type=\"listing-link\" href=\"https://www.makaan.com/bangalore/pariwar-wise-venture-banglore-wise-palmsprings-in-varthur-20350268/2bhk-1140-sqft-apartment\" itemprop=\"url\" target=\"_blank\"><meta content=\"2 BHK Apartment for sale\" id=\"itemNameFor-20350268\" itemprop=\"name\"/><strong><span class=\"val\">2 </span><span>BHK </span><span>Apartment</span></strong></a><span class=\"project-wrap\"> in <strong><a class=\"projName\" data-link-name=\"Pariwar Wise Palmsprings\" data-link-type=\"project overview\" data-track-label=\"20350268_2_3135519_select\" data-type=\"projName\" href=\"https://www.makaan.com/bangalore/pariwar-wise-venture-banglore-wise-palmsprings-in-varthur-3135519\" target=\"_blank\" title=\"Go to Pariwar Wise Palmsprings\"><span>Pariwar Wise Palmsprings</span></a></strong></span><div class=\"rera-tag-new\" title=\"Rera Approved Project\"><img alt=\"Rera Approved Project\" src=\"//static.makaan.com/images/un-versioned/rera-tag.svg\"/></div></div>, <div class=\"title-line\"><a class=\"typelink\" data-type=\"listing-link\" href=\"https://www.makaan.com/bangalore/casagrand-builder-private-limited-casagrand-meridian-in-krishnarajapura-20640033/3bhk-2037-sqft-apartment\" itemprop=\"url\" target=\"_blank\"><meta content=\"3 BHK Apartment for sale\" id=\"itemNameFor-20640033\" itemprop=\"name\"/><strong><span class=\"val\">3 </span><span>BHK </span><span>Apartment</span></strong></a><span class=\"project-wrap\"> in <strong><a class=\"projName\" data-link-name=\"CasaGrand Casagrand Meridian\" data-link-type=\"project overview\" data-track-label=\"20640033_3_3228421_select\" data-type=\"projName\" href=\"https://www.makaan.com/bangalore/casagrand-builder-private-limited-casagrand-meridian-in-krishnarajapura-3228421\" target=\"_blank\" title=\"Go to CasaGrand Casagrand Meridian\"><span>CasaGrand Casagrand Meridian</span></a></strong></span><div class=\"rera-tag-new\" title=\"Rera Approved Project\"><img alt=\"Rera Approved Project\" src=\"//static.makaan.com/images/un-versioned/rera-tag.svg\"/></div></div>, <div class=\"title-line\"><a class=\"typelink\" data-type=\"listing-link\" href=\"https://www.makaan.com/bangalore/suraksha-group-heritage-park-in-begur-20757579/2bhk-1026-sqft-apartment\" itemprop=\"url\" target=\"_blank\"><meta content=\"2 BHK Apartment for sale\" id=\"itemNameFor-20757579\" itemprop=\"name\"/><strong><span class=\"val\">2 </span><span>BHK </span><span>Apartment</span></strong></a><span class=\"project-wrap\"> in <strong><a class=\"projName\" data-link-name=\"Suraksha Heritage Park\" data-link-type=\"project overview\" data-track-label=\"20757579_4_3110584_select\" data-type=\"projName\" href=\"https://www.makaan.com/bangalore/suraksha-group-heritage-park-in-begur-3110584\" target=\"_blank\" title=\"Go to Suraksha Heritage Park\"><span>Suraksha Heritage Park</span></a></strong></span><div class=\"rera-tag-new\" title=\"Rera Approved Project\"><img alt=\"Rera Approved Project\" src=\"//static.makaan.com/images/un-versioned/rera-tag.svg\"/></div></div>, <div class=\"title-line\"><a class=\"typelink\" data-type=\"listing-link\" href=\"https://www.makaan.com/bangalore/kumar-properties-prospera-in-hennur-20589973/2bhk-2t-1146-sqft-apartment\" itemprop=\"url\" target=\"_blank\"><meta content=\"2 BHK Apartment for sale\" id=\"itemNameFor-20589973\" itemprop=\"name\"/><strong><span class=\"val\">2 </span><span>BHK </span><span>Apartment</span></strong></a><span class=\"project-wrap\"> in <strong><a class=\"projName\" data-link-name=\"Kumar Prospera\" data-link-type=\"project overview\" data-track-label=\"20589973_5_3068305_select\" data-type=\"projName\" href=\"https://www.makaan.com/bangalore/kumar-properties-prospera-in-hennur-3068305\" target=\"_blank\" title=\"Go to Kumar Prospera\"><span>Kumar Prospera</span></a></strong></span><div class=\"rera-tag-new\" title=\"Rera Approved Project\"><img alt=\"Rera Approved Project\" src=\"//static.makaan.com/images/un-versioned/rera-tag.svg\"/></div></div>, <div class=\"title-line\"><a class=\"typelink\" data-type=\"listing-link\" href=\"https://www.makaan.com/bangalore/bavisha-homes-singature-homes-in-sompura-20539501/2bhk-854-sqft-apartment\" itemprop=\"url\" target=\"_blank\"><meta content=\"2 BHK Apartment for sale\" id=\"itemNameFor-20539501\" itemprop=\"name\"/><strong><span class=\"val\">2 </span><span>BHK </span><span>Apartment</span></strong></a><span class=\"project-wrap\"> in <strong><a class=\"projName\" data-link-name=\"Bavisha Singature Homes\" data-link-type=\"project overview\" data-track-label=\"20539501_6_3193941_select\" data-type=\"projName\" href=\"https://www.makaan.com/bangalore/bavisha-homes-singature-homes-in-sompura-3193941\" target=\"_blank\" title=\"Go to Bavisha Singature Homes\"><span>Bavisha Singature Homes</span></a></strong></span><div class=\"rera-tag-new\" title=\"Rera Approved Project\"><img alt=\"Rera Approved Project\" src=\"//static.makaan.com/images/un-versioned/rera-tag.svg\"/></div></div>, <div class=\"title-line\"><a class=\"typelink\" data-type=\"listing-link\" href=\"https://www.makaan.com/bangalore/abhi-infra-star-light-in-gunjur-20475648/3bhk-1535-sqft-apartment\" itemprop=\"url\" target=\"_blank\"><meta content=\"3 BHK Apartment for sale\" id=\"itemNameFor-20475648\" itemprop=\"name\"/><strong><span class=\"val\">3 </span><span>BHK </span><span>Apartment</span></strong></a><span class=\"project-wrap\"> in <strong><a class=\"projName\" data-link-name=\"Abhi Star Light\" data-link-type=\"project overview\" data-track-label=\"20475648_7_3193994_select\" data-type=\"projName\" href=\"https://www.makaan.com/bangalore/abhi-infra-star-light-in-gunjur-3193994\" target=\"_blank\" title=\"Go to Abhi Star Light\"><span>Abhi Star Light</span></a></strong></span><div class=\"rera-tag-new\" title=\"Rera Approved Project\"><img alt=\"Rera Approved Project\" src=\"//static.makaan.com/images/un-versioned/rera-tag.svg\"/></div></div>, <div class=\"title-line\"><a class=\"typelink\" data-type=\"listing-link\" href=\"https://www.makaan.com/bangalore/pratham-constructions-zen-indraprastha-by-pratham-in-yeshwantpur-20540927/2bhk-1285-sqft-apartment\" itemprop=\"url\" target=\"_blank\"><meta content=\"2 BHK Apartment for sale\" id=\"itemNameFor-20540927\" itemprop=\"name\"/><strong><span class=\"val\">2 </span><span>BHK </span><span>Apartment</span></strong></a><span class=\"project-wrap\"> in <strong><a class=\"projName\" data-link-name=\"Pratham Zen Indraprastha by Pratham\" data-link-type=\"project overview\" data-track-label=\"20540927_8_1283809_select\" data-type=\"projName\" href=\"https://www.makaan.com/bangalore/pratham-constructions-zen-indraprastha-by-pratham-in-yeshwantpur-1283809\" target=\"_blank\" title=\"Go to Pratham Zen Indraprastha by Pratham\"><span>Pratham Zen Indraprastha by Pratham</span></a></strong></span></div>, <div class=\"title-line\"><a class=\"typelink\" data-type=\"listing-link\" href=\"https://www.makaan.com/bangalore/assetz-property-group-canvas-cove-in-begur-20566180/3bhk-1212-sqft-apartment\" itemprop=\"url\" target=\"_blank\"><meta content=\"3 BHK Apartment for sale\" id=\"itemNameFor-20566180\" itemprop=\"name\"/><strong><span class=\"val\">3 </span><span>BHK </span><span>Apartment</span></strong></a><span class=\"project-wrap\"> in <strong><a class=\"projName\" data-link-name=\"Assetz CANVAS &amp; COVE\" data-link-type=\"project overview\" data-track-label=\"20566180_9_3002805_select\" data-type=\"projName\" href=\"https://www.makaan.com/bangalore/assetz-property-group-canvas-cove-in-begur-3002805\" target=\"_blank\" title=\"Go to Assetz CANVAS &amp; COVE\"><span>Assetz CANVAS &amp; COVE</span></a></strong></span><div class=\"rera-tag-new\" title=\"Rera Approved Project\"><img alt=\"Rera Approved Project\" src=\"//static.makaan.com/images/un-versioned/rera-tag.svg\"/></div></div>, <div class=\"title-line\"><a class=\"typelink\" data-type=\"listing-link\" href=\"https://www.makaan.com/bangalore/sairam-dwellings-sai-gangothri-hill-crest-in-kengeri-20378899/3bhk-2t-1220-sqft-apartment\" itemprop=\"url\" target=\"_blank\"><meta content=\"3 BHK Apartment for sale\" id=\"itemNameFor-20378899\" itemprop=\"name\"/><strong><span class=\"val\">3 </span><span>BHK </span><span>Apartment</span></strong></a><span class=\"project-wrap\"> in <strong><a class=\"projName\" data-link-name=\"Sairam Sai Gangothri Hill Crest\" data-link-type=\"project overview\" data-track-label=\"20378899_10_2026209_select\" data-type=\"projName\" href=\"https://www.makaan.com/bangalore/sairam-dwellings-sai-gangothri-hill-crest-in-kengeri-2026209\" target=\"_blank\" title=\"Go to Sairam Sai Gangothri Hill Crest\"><span>Sairam Sai Gangothri Hill Crest</span></a></strong></span><div class=\"rera-tag-new\" title=\"Rera Approved Project\"><img alt=\"Rera Approved Project\" src=\"//static.makaan.com/images/un-versioned/rera-tag.svg\"/></div></div>, <div class=\"title-line\"><a class=\"typelink\" data-type=\"listing-link\" href=\"https://www.makaan.com/bangalore/saroj-blue-bells-in-whitefield-hope-farm-junction-20563502/2bhk-1110-sqft-apartment\" itemprop=\"url\" target=\"_blank\"><meta content=\"2 BHK Apartment for sale\" id=\"itemNameFor-20563502\" itemprop=\"name\"/><strong><span class=\"val\">2 </span><span>BHK </span><span>Apartment</span></strong></a><span class=\"project-wrap\"> in <strong><a class=\"projName\" data-link-name=\"Saroj Blue bells\" data-link-type=\"project overview\" data-track-label=\"20563502_11_2032778_select\" data-type=\"projName\" href=\"https://www.makaan.com/bangalore/saroj-blue-bells-in-whitefield-hope-farm-junction-2032778\" target=\"_blank\" title=\"Go to Saroj Blue bells\"><span>Saroj Blue bells</span></a></strong></span><div class=\"rera-tag-new\" title=\"Rera Approved Project\"><img alt=\"Rera Approved Project\" src=\"//static.makaan.com/images/un-versioned/rera-tag.svg\"/></div></div>, <div class=\"title-line\"><a class=\"typelink\" data-type=\"listing-link\" href=\"https://www.makaan.com/bangalore/ambika-developer-serene-square-in-devanahalli-20589983/1350-sqft-plot\" itemprop=\"url\" target=\"_blank\"><meta content=\"Residential Plot for sale\" id=\"itemNameFor-20589983\" itemprop=\"name\"/><strong><span>Residential Plot</span></strong></a><span class=\"project-wrap\"> in <strong><a class=\"projName\" data-link-name=\"Ambika Serene Square\" data-link-type=\"project overview\" data-track-label=\"20589983_12_3167330_select\" data-type=\"projName\" href=\"https://www.makaan.com/bangalore/ambika-developer-serene-square-in-devanahalli-3167330\" target=\"_blank\" title=\"Go to Ambika Serene Square\"><span>Ambika Serene Square</span></a></strong></span></div>, <div class=\"title-line\"><a class=\"typelink\" data-type=\"listing-link\" href=\"https://www.makaan.com/bangalore/icon-infra-shelters-india-grand-icon-phase-2-in-bommasandra-20753547/2000-sqft-plot\" itemprop=\"url\" target=\"_blank\"><meta content=\"Residential Plot for sale\" id=\"itemNameFor-20753547\" itemprop=\"name\"/><strong><span>Residential Plot</span></strong></a><span class=\"project-wrap\"> in <strong><a class=\"projName\" data-link-name=\"Icon Grand Icon Phase 2\" data-link-type=\"project overview\" data-track-label=\"20753547_13_3140418_select\" data-type=\"projName\" href=\"https://www.makaan.com/bangalore/icon-infra-shelters-india-grand-icon-phase-2-in-bommasandra-3140418\" target=\"_blank\" title=\"Go to Icon Grand Icon Phase 2\"><span>Icon Grand Icon Phase 2</span></a></strong></span><div class=\"rera-tag-new\" title=\"Rera Approved Project\"><img alt=\"Rera Approved Project\" src=\"//static.makaan.com/images/un-versioned/rera-tag.svg\"/></div></div>, <div class=\"title-line\"><a class=\"typelink\" data-type=\"listing-link\" href=\"https://www.makaan.com/bangalore/saroj-ventures-whispering-winds-in-karudabande-hosahalli-20694249/2000-sqft-plot\" itemprop=\"url\" target=\"_blank\"><meta content=\"Residential Plot for sale\" id=\"itemNameFor-20694249\" itemprop=\"name\"/><strong><span>Residential Plot</span></strong></a><span class=\"project-wrap\"> in <strong><a class=\"projName\" data-link-name=\"Saroj Whispering Winds\" data-link-type=\"project overview\" data-track-label=\"20694249_14_1979537_select\" data-type=\"projName\" href=\"https://www.makaan.com/bangalore/saroj-ventures-whispering-winds-in-karudabande-hosahalli-1979537\" target=\"_blank\" title=\"Go to Saroj Whispering Winds\"><span>Saroj Whispering Winds</span></a></strong></span></div>, <div class=\"title-line\"><a class=\"typelink\" data-type=\"listing-link\" href=\"https://www.makaan.com/bangalore/mana-projects-macasa-emerald-in-chikkanayakanahalli-at-off-sarjapur-20925746/2bhk-1071-sqft-apartment\" itemprop=\"url\" target=\"_blank\"><meta content=\"2 BHK Apartment for sale\" id=\"itemNameFor-20925746\" itemprop=\"name\"/><strong><span class=\"val\">2 </span><span>BHK </span><span>Apartment</span></strong></a><span class=\"project-wrap\"> in <strong><a class=\"projName\" data-link-name=\"Mana Macasa Emerald\" data-link-type=\"project overview\" data-track-label=\"20925746_15_3227163_select\" data-type=\"projName\" href=\"https://www.makaan.com/bangalore/mana-projects-macasa-emerald-in-chikkanayakanahalli-at-off-sarjapur-3227163\" target=\"_blank\" title=\"Go to Mana Macasa Emerald\"><span>Mana Macasa Emerald</span></a></strong></span><div class=\"rera-tag-new\" title=\"Rera Approved Project\"><img alt=\"Rera Approved Project\" src=\"//static.makaan.com/images/un-versioned/rera-tag.svg\"/></div></div>, <div class=\"title-line\"><a class=\"typelink\" data-type=\"listing-link\" href=\"https://www.makaan.com/bangalore/guru-punvaanii-properties-guru-punvaanii-eka-in-anekal-city-20489325/1500-sqft-plot\" itemprop=\"url\" target=\"_blank\"><meta content=\"Residential Plot for sale\" id=\"itemNameFor-20489325\" itemprop=\"name\"/><strong><span>Residential Plot</span></strong></a><span class=\"project-wrap\"> in <strong><a class=\"projName\" data-link-name=\"Guru Punvaanii Guru Punvaanii Eka\" data-link-type=\"project overview\" data-track-label=\"20489325_16_3039668_select\" data-type=\"projName\" href=\"https://www.makaan.com/bangalore/guru-punvaanii-properties-guru-punvaanii-eka-in-anekal-city-3039668\" target=\"_blank\" title=\"Go to Guru Punvaanii Guru Punvaanii Eka\"><span>Guru Punvaanii Guru Punvaanii Eka</span></a></strong></span></div>, <div class=\"title-line\"><a class=\"typelink\" data-type=\"listing-link\" href=\"https://www.makaan.com/bangalore/navami-builders-landmaark-in-rr-nagar-20692865/3bhk-2t-1641-sqft-apartment\" itemprop=\"url\" target=\"_blank\"><meta content=\"3 BHK Apartment for sale\" id=\"itemNameFor-20692865\" itemprop=\"name\"/><strong><span class=\"val\">3 </span><span>BHK </span><span>Apartment</span></strong></a><span class=\"project-wrap\"> in <strong><a class=\"projName\" data-link-name=\"Navami Landmaark\" data-link-type=\"project overview\" data-track-label=\"20692865_17_1921572_select\" data-type=\"projName\" href=\"https://www.makaan.com/bangalore/navami-builders-landmaark-in-rr-nagar-1921572\" target=\"_blank\" title=\"Go to Navami Landmaark\"><span>Navami Landmaark</span></a></strong></span><div class=\"rera-tag-new\" title=\"Rera Approved Project\"><img alt=\"Rera Approved Project\" src=\"//static.makaan.com/images/un-versioned/rera-tag.svg\"/></div></div>, <div class=\"title-line\"><a class=\"typelink\" data-type=\"listing-link\" href=\"https://www.makaan.com/bangalore/bluejay-enterprises-uttar-in-devanahalli-20463993/1945-sqft-plot\" itemprop=\"url\" target=\"_blank\"><meta content=\"Residential Plot for sale\" id=\"itemNameFor-20463993\" itemprop=\"name\"/><strong><span>Residential Plot</span></strong></a><span class=\"project-wrap\"> in <strong><a class=\"projName\" data-link-name=\"Bluejay Uttar\" data-link-type=\"project overview\" data-track-label=\"20463993_18_675396_select\" data-type=\"projName\" href=\"https://www.makaan.com/bangalore/bluejay-enterprises-uttar-in-devanahalli-675396\" target=\"_blank\" title=\"Go to Bluejay Uttar\"><span>Bluejay Uttar</span></a></strong></span></div>, <div class=\"title-line\"><a class=\"typelink\" data-type=\"listing-link\" href=\"https://www.makaan.com/bangalore/nayak-developers-golden-fields-in-devanahalli-20579193/4000-sqft-plot\" itemprop=\"url\" target=\"_blank\"><meta content=\"Residential Plot for sale\" id=\"itemNameFor-20579193\" itemprop=\"name\"/><strong><span>Residential Plot</span></strong></a><span class=\"project-wrap\"> in <strong><a class=\"projName\" data-link-name=\"Nayak Golden Fields\" data-link-type=\"project overview\" data-track-label=\"20579193_19_2078247_select\" data-type=\"projName\" href=\"https://www.makaan.com/bangalore/nayak-developers-golden-fields-in-devanahalli-2078247\" target=\"_blank\" title=\"Go to Nayak Golden Fields\"><span>Nayak Golden Fields</span></a></strong></span></div>, <div class=\"title-line\"><a class=\"typelink\" data-type=\"listing-link\" href=\"https://www.makaan.com/bangalore/inner-urban-infra-estate-urban-eco-space-in-sarjapur-20606374/2bhk-2t-1017-sqft-apartment\" itemprop=\"url\" target=\"_blank\"><meta content=\"2 BHK Apartment for sale\" id=\"itemNameFor-20606374\" itemprop=\"name\"/><strong><span class=\"val\">2 </span><span>BHK </span><span>Apartment</span></strong></a><span class=\"project-wrap\"> in <strong><a class=\"projName\" data-link-name=\"Inner Urban Eco Space\" data-link-type=\"project overview\" data-track-label=\"20606374_20_1401119_select\" data-type=\"projName\" href=\"https://www.makaan.com/bangalore/inner-urban-infra-estate-urban-eco-space-in-sarjapur-1401119\" target=\"_blank\" title=\"Go to Inner Urban Eco Space\"><span>Inner Urban Eco Space</span></a></strong></span></div>]\n",
      "20\n"
     ]
    }
   ],
   "source": [
    "s = soup.find_all('div',attrs={'class':'title-line'})\n",
    "print(s)\n",
    "print(len(s))"
   ]
  },
  {
   "cell_type": "code",
   "execution_count": 49,
   "id": "bb61b6d0",
   "metadata": {},
   "outputs": [
    {
     "name": "stdout",
     "output_type": "stream",
     "text": [
      "['2 BHK Apartment in VBHC Palmhaven II Block A', '2 BHK Apartment in Pariwar Wise Palmsprings', '3 BHK Apartment in CasaGrand Casagrand Meridian', '2 BHK Apartment in Suraksha Heritage Park', '2 BHK Apartment in Kumar Prospera', '2 BHK Apartment in Bavisha Singature Homes', '3 BHK Apartment in Abhi Star Light', '2 BHK Apartment in Pratham Zen Indraprastha by Pratham', '3 BHK Apartment in Assetz CANVAS & COVE', '3 BHK Apartment in Sairam Sai Gangothri Hill Crest', '2 BHK Apartment in Saroj Blue bells', 'Residential Plot in Ambika Serene Square', 'Residential Plot in Icon Grand Icon Phase 2', 'Residential Plot in Saroj Whispering Winds', '2 BHK Apartment in Mana Macasa Emerald', 'Residential Plot in Guru Punvaanii Guru Punvaanii Eka', '3 BHK Apartment in Navami Landmaark', 'Residential Plot in Bluejay Uttar', 'Residential Plot in Nayak Golden Fields', '2 BHK Apartment in Inner Urban Eco Space']\n"
     ]
    }
   ],
   "source": [
    "names = []\n",
    "for i in s:\n",
    "    names.append(i.text)\n",
    "print(names)"
   ]
  },
  {
   "cell_type": "code",
   "execution_count": 51,
   "id": "9c9202e4",
   "metadata": {},
   "outputs": [
    {
     "name": "stdout",
     "output_type": "stream",
     "text": [
      "['2 BHK Apartment in VBHC Palmhaven II Block A', '2 BHK Apartment in Pariwar Wise Palmsprings', '3 BHK Apartment in CasaGrand Casagrand Meridian', '2 BHK Apartment in Suraksha Heritage Park', '2 BHK Apartment in Kumar Prospera', '2 BHK Apartment in Bavisha Singature Homes', '3 BHK Apartment in Abhi Star Light', '2 BHK Apartment in Pratham Zen Indraprastha by Pratham', '3 BHK Apartment in Assetz CANVAS & COVE', '3 BHK Apartment in Sairam Sai Gangothri Hill Crest', '2 BHK Apartment in Saroj Blue bells', 'Residential Plot in Ambika Serene Square', 'Residential Plot in Icon Grand Icon Phase 2', 'Residential Plot in Saroj Whispering Winds', '2 BHK Apartment in Mana Macasa Emerald', 'Residential Plot in Guru Punvaanii Guru Punvaanii Eka', '3 BHK Apartment in Navami Landmaark', 'Residential Plot in Bluejay Uttar', 'Residential Plot in Nayak Golden Fields', '2 BHK Apartment in Inner Urban Eco Space']\n"
     ]
    }
   ],
   "source": [
    "names = [i.text for i in s]\n",
    "print(names)"
   ]
  },
  {
   "cell_type": "code",
   "execution_count": 54,
   "id": "35243734",
   "metadata": {},
   "outputs": [
    {
     "name": "stdout",
     "output_type": "stream",
     "text": [
      "['48 L', '68.38 L', '1.18 Cr', '73.85 L', '91.85 L', '41.84 L', '70.81 L', '1.25 Cr', '88 L', '67 L', '73.01 L', '31.71 L', '85.59 L', '32.3 L', '83.87 L', '30 L', '1.33 Cr', '64.18 L', '56 L', '34.01 L']\n"
     ]
    }
   ],
   "source": [
    "d = soup.find_all('div',attrs={'data-type':'price-link'})\n",
    "price = [i.text.strip() for i in d]\n",
    "print(price)"
   ]
  },
  {
   "cell_type": "code",
   "execution_count": 62,
   "id": "7cc8b707",
   "metadata": {},
   "outputs": [
    {
     "name": "stdout",
     "output_type": "stream",
     "text": [
      "['Under Construction', 'Under Construction', 'Under Construction', 'Under Construction', 'Under Construction', 'Under Construction', 'Under Construction', 'Ready to move', 'Under Construction', 'Under Construction', 'Under Construction', 'New', 'New', 'New', 'Under Construction', 'New', 'Under Construction', 'New', 'New', 'Ready to move']\n",
      "20\n"
     ]
    }
   ],
   "source": [
    "e = soup.find_all('td',attrs={'class':'val'})\n",
    "status = [i.text.strip() for i in e]\n",
    "print(status)\n",
    "print(len(status))"
   ]
  },
  {
   "cell_type": "code",
   "execution_count": 58,
   "id": "29a91f5a",
   "metadata": {},
   "outputs": [
    {
     "name": "stdout",
     "output_type": "stream",
     "text": [
      "[]\n",
      "0\n"
     ]
    }
   ],
   "source": [
    "e = soup.find_all('div',attrs={'class':'keypoint',\n",
    "                              'title':'Bathrooma'})\n",
    "b = [i.text.strip() for i in e]\n",
    "print(b)\n",
    "print(len(b))"
   ]
  },
  {
   "cell_type": "code",
   "execution_count": 70,
   "id": "27171fff",
   "metadata": {},
   "outputs": [
    {
     "name": "stdout",
     "output_type": "stream",
     "text": [
      "['Not Mentioned', 'Not Mentioned', 'Not Mentioned', 'Not Mentioned', '2 Bathrooms', 'Not Mentioned', 'Not Mentioned', 'Not Mentioned', 'Not Mentioned', '2 Bathrooms', 'Not Mentioned', 'Not Mentioned', 'Not Mentioned', 'Not Mentioned', 'Not Mentioned', 'Not Mentioned', '2 Bathrooms', 'Not Mentioned', 'Not Mentioned', '2 Bathrooms']\n",
      "20\n"
     ]
    }
   ],
   "source": [
    "nbath = soup.find_all('ul',attrs={'class':'listing-details'})\n",
    "bath_info=[]\n",
    "for i in nbath:\n",
    "    if i.find('li',attrs={'class':'keypoint',\n",
    "                            'title':'Bathrooms'})is None:\n",
    "        bath_info.append(\"Not Mentioned\")\n",
    "    else:\n",
    "        bath_info.append(i.find('li',attrs={'class':'keypoint',\n",
    "                                            'title':'Bathrooms'}).text)\n",
    "print(bath_info)\n",
    "print(len(bath_info))"
   ]
  },
  {
   "cell_type": "code",
   "execution_count": 71,
   "id": "c007d9e3",
   "metadata": {},
   "outputs": [
    {
     "name": "stdout",
     "output_type": "stream",
     "text": [
      "Collecting pandas\n",
      "  Downloading pandas-1.5.3-cp310-cp310-win_amd64.whl (10.4 MB)\n",
      "     ---------------------------------------- 0.0/10.4 MB ? eta -:--:--\n",
      "     ---------------------------------------- 0.0/10.4 MB ? eta -:--:--\n",
      "     ---------------------------------------- 0.0/10.4 MB ? eta -:--:--\n",
      "     ---------------------------------------- 0.0/10.4 MB ? eta -:--:--\n",
      "     ---------------------------------------- 0.0/10.4 MB ? eta -:--:--\n",
      "     ---------------------------------------- 0.0/10.4 MB ? eta -:--:--\n",
      "     --------------------------------------- 0.0/10.4 MB 667.8 kB/s eta 0:00:16\n",
      "     --------------------------------------- 0.1/10.4 MB 550.5 kB/s eta 0:00:19\n",
      "     --------------------------------------- 0.1/10.4 MB 459.5 kB/s eta 0:00:23\n",
      "     --------------------------------------- 0.1/10.4 MB 459.5 kB/s eta 0:00:23\n",
      "     --------------------------------------- 0.1/10.4 MB 403.5 kB/s eta 0:00:26\n",
      "     --------------------------------------- 0.1/10.4 MB 409.6 kB/s eta 0:00:26\n",
      "     --------------------------------------- 0.1/10.4 MB 380.5 kB/s eta 0:00:27\n",
      "      -------------------------------------- 0.1/10.4 MB 388.1 kB/s eta 0:00:27\n",
      "      -------------------------------------- 0.2/10.4 MB 378.3 kB/s eta 0:00:27\n",
      "      -------------------------------------- 0.2/10.4 MB 361.7 kB/s eta 0:00:29\n",
      "      -------------------------------------- 0.2/10.4 MB 357.9 kB/s eta 0:00:29\n",
      "      -------------------------------------- 0.2/10.4 MB 346.2 kB/s eta 0:00:30\n",
      "      -------------------------------------- 0.2/10.4 MB 353.1 kB/s eta 0:00:29\n",
      "      -------------------------------------- 0.2/10.4 MB 353.1 kB/s eta 0:00:29\n",
      "      -------------------------------------- 0.2/10.4 MB 351.0 kB/s eta 0:00:29\n",
      "     - ------------------------------------- 0.3/10.4 MB 341.3 kB/s eta 0:00:30\n",
      "     - ------------------------------------- 0.3/10.4 MB 347.3 kB/s eta 0:00:30\n",
      "     - ------------------------------------- 0.3/10.4 MB 346.3 kB/s eta 0:00:30\n",
      "     - ------------------------------------- 0.3/10.4 MB 351.1 kB/s eta 0:00:29\n",
      "     - ------------------------------------- 0.3/10.4 MB 350.4 kB/s eta 0:00:29\n",
      "     - ------------------------------------- 0.4/10.4 MB 364.2 kB/s eta 0:00:28\n",
      "     - ------------------------------------- 0.4/10.4 MB 368.6 kB/s eta 0:00:28\n",
      "     - ------------------------------------- 0.4/10.4 MB 370.5 kB/s eta 0:00:27\n",
      "     - ------------------------------------- 0.4/10.4 MB 378.6 kB/s eta 0:00:27\n",
      "     - ------------------------------------- 0.5/10.4 MB 389.8 kB/s eta 0:00:26\n",
      "     - ------------------------------------- 0.5/10.4 MB 395.1 kB/s eta 0:00:25\n",
      "     - ------------------------------------- 0.5/10.4 MB 401.4 kB/s eta 0:00:25\n",
      "     -- ------------------------------------ 0.5/10.4 MB 410.9 kB/s eta 0:00:24\n",
      "     -- ------------------------------------ 0.6/10.4 MB 419.4 kB/s eta 0:00:24\n",
      "     -- ------------------------------------ 0.6/10.4 MB 429.7 kB/s eta 0:00:23\n",
      "     -- ------------------------------------ 0.6/10.4 MB 432.4 kB/s eta 0:00:23\n",
      "     -- ------------------------------------ 0.7/10.4 MB 439.5 kB/s eta 0:00:23\n",
      "     -- ------------------------------------ 0.7/10.4 MB 452.9 kB/s eta 0:00:22\n",
      "     -- ------------------------------------ 0.7/10.4 MB 460.7 kB/s eta 0:00:21\n",
      "     -- ------------------------------------ 0.8/10.4 MB 472.6 kB/s eta 0:00:21\n",
      "     --- ----------------------------------- 0.8/10.4 MB 478.0 kB/s eta 0:00:20\n",
      "     --- ----------------------------------- 0.8/10.4 MB 484.2 kB/s eta 0:00:20\n",
      "     --- ----------------------------------- 0.9/10.4 MB 493.1 kB/s eta 0:00:20\n",
      "     --- ----------------------------------- 0.9/10.4 MB 508.6 kB/s eta 0:00:19\n",
      "     --- ----------------------------------- 1.0/10.4 MB 512.3 kB/s eta 0:00:19\n",
      "     --- ----------------------------------- 1.0/10.4 MB 526.5 kB/s eta 0:00:18\n",
      "     --- ----------------------------------- 1.0/10.4 MB 533.9 kB/s eta 0:00:18\n",
      "     ---- ---------------------------------- 1.1/10.4 MB 547.8 kB/s eta 0:00:17\n",
      "     ---- ---------------------------------- 1.1/10.4 MB 550.5 kB/s eta 0:00:17\n",
      "     ---- ---------------------------------- 1.2/10.4 MB 562.6 kB/s eta 0:00:17\n",
      "     ---- ---------------------------------- 1.2/10.4 MB 574.2 kB/s eta 0:00:16\n",
      "     ---- ---------------------------------- 1.3/10.4 MB 585.3 kB/s eta 0:00:16\n",
      "     ----- --------------------------------- 1.3/10.4 MB 591.3 kB/s eta 0:00:16\n",
      "     ----- --------------------------------- 1.4/10.4 MB 601.6 kB/s eta 0:00:15\n",
      "     ----- --------------------------------- 1.4/10.4 MB 615.6 kB/s eta 0:00:15\n",
      "     ----- --------------------------------- 1.5/10.4 MB 625.1 kB/s eta 0:00:15\n",
      "     ----- --------------------------------- 1.5/10.4 MB 634.1 kB/s eta 0:00:14\n",
      "     ------ -------------------------------- 1.6/10.4 MB 647.0 kB/s eta 0:00:14\n",
      "     ------ -------------------------------- 1.6/10.4 MB 655.4 kB/s eta 0:00:14\n",
      "     ------ -------------------------------- 1.7/10.4 MB 667.7 kB/s eta 0:00:13\n",
      "     ------ -------------------------------- 1.8/10.4 MB 675.3 kB/s eta 0:00:13\n",
      "     ------- ------------------------------- 1.9/10.4 MB 699.9 kB/s eta 0:00:13\n",
      "     ------- ------------------------------- 2.0/10.4 MB 702.8 kB/s eta 0:00:12\n",
      "     ------- ------------------------------- 2.1/10.4 MB 716.3 kB/s eta 0:00:12\n",
      "     ------- ------------------------------- 2.1/10.4 MB 722.4 kB/s eta 0:00:12\n",
      "     -------- ------------------------------ 2.2/10.4 MB 731.7 kB/s eta 0:00:12\n",
      "     -------- ------------------------------ 2.2/10.4 MB 740.7 kB/s eta 0:00:11\n",
      "     -------- ------------------------------ 2.3/10.4 MB 749.1 kB/s eta 0:00:11\n",
      "     -------- ------------------------------ 2.3/10.4 MB 751.5 kB/s eta 0:00:11\n",
      "     --------- ----------------------------- 2.4/10.4 MB 758.9 kB/s eta 0:00:11\n",
      "     --------- ----------------------------- 2.5/10.4 MB 773.2 kB/s eta 0:00:11\n",
      "     --------- ----------------------------- 2.6/10.4 MB 783.4 kB/s eta 0:00:10\n",
      "     ---------- ---------------------------- 2.7/10.4 MB 799.5 kB/s eta 0:00:10\n",
      "     ---------- ---------------------------- 2.8/10.4 MB 808.7 kB/s eta 0:00:10\n",
      "     ---------- ---------------------------- 2.8/10.4 MB 821.5 kB/s eta 0:00:10\n",
      "     ----------- --------------------------- 2.9/10.4 MB 829.4 kB/s eta 0:00:09\n",
      "     ----------- --------------------------- 3.0/10.4 MB 841.4 kB/s eta 0:00:09\n",
      "     ----------- --------------------------- 3.1/10.4 MB 852.4 kB/s eta 0:00:09\n",
      "     ----------- --------------------------- 3.2/10.4 MB 855.4 kB/s eta 0:00:09\n",
      "     ------------ -------------------------- 3.2/10.4 MB 866.6 kB/s eta 0:00:09\n",
      "     ------------ -------------------------- 3.3/10.4 MB 877.5 kB/s eta 0:00:09\n",
      "     ------------ -------------------------- 3.4/10.4 MB 884.6 kB/s eta 0:00:08\n",
      "     ------------- ------------------------- 3.5/10.4 MB 893.2 kB/s eta 0:00:08\n",
      "     ------------- ------------------------- 3.6/10.4 MB 906.7 kB/s eta 0:00:08\n",
      "     ------------- ------------------------- 3.7/10.4 MB 913.9 kB/s eta 0:00:08\n",
      "     -------------- ------------------------ 3.7/10.4 MB 918.7 kB/s eta 0:00:08\n",
      "     -------------- ------------------------ 3.8/10.4 MB 928.2 kB/s eta 0:00:08\n",
      "     -------------- ------------------------ 3.9/10.4 MB 937.4 kB/s eta 0:00:07\n",
      "     --------------- ----------------------- 4.0/10.4 MB 951.4 kB/s eta 0:00:07\n",
      "     --------------- ----------------------- 4.1/10.4 MB 958.9 kB/s eta 0:00:07\n",
      "     --------------- ----------------------- 4.2/10.4 MB 971.3 kB/s eta 0:00:07\n",
      "     --------------- ----------------------- 4.2/10.4 MB 976.1 kB/s eta 0:00:07\n",
      "     ---------------- ---------------------- 4.3/10.4 MB 971.5 kB/s eta 0:00:07\n",
      "     ---------------- ---------------------- 4.4/10.4 MB 982.0 kB/s eta 0:00:07\n",
      "     ---------------- ---------------------- 4.5/10.4 MB 984.4 kB/s eta 0:00:06\n",
      "     ----------------- --------------------- 4.6/10.4 MB 989.9 kB/s eta 0:00:06\n",
      "     ----------------- --------------------- 4.6/10.4 MB 991.9 kB/s eta 0:00:06\n",
      "     ----------------- --------------------- 4.7/10.4 MB 996.2 kB/s eta 0:00:06\n",
      "     ------------------ --------------------- 4.8/10.4 MB 1.0 MB/s eta 0:00:06\n",
      "     ------------------ --------------------- 4.8/10.4 MB 1.0 MB/s eta 0:00:06\n",
      "     ------------------- -------------------- 4.9/10.4 MB 1.0 MB/s eta 0:00:06\n",
      "     ------------------- -------------------- 5.0/10.4 MB 1.0 MB/s eta 0:00:06\n",
      "     ------------------- -------------------- 5.1/10.4 MB 1.0 MB/s eta 0:00:06\n",
      "     -------------------- ------------------- 5.2/10.4 MB 1.0 MB/s eta 0:00:06\n",
      "     -------------------- ------------------- 5.3/10.4 MB 1.0 MB/s eta 0:00:05\n",
      "     -------------------- ------------------- 5.3/10.4 MB 1.0 MB/s eta 0:00:05\n",
      "     -------------------- ------------------- 5.4/10.4 MB 1.0 MB/s eta 0:00:05\n",
      "     --------------------- ------------------ 5.5/10.4 MB 1.0 MB/s eta 0:00:05\n",
      "     --------------------- ------------------ 5.6/10.4 MB 1.0 MB/s eta 0:00:05\n",
      "     --------------------- ------------------ 5.6/10.4 MB 1.1 MB/s eta 0:00:05\n",
      "     ---------------------- ----------------- 5.7/10.4 MB 1.1 MB/s eta 0:00:05\n",
      "     ---------------------- ----------------- 5.8/10.4 MB 1.1 MB/s eta 0:00:05\n",
      "     ---------------------- ----------------- 5.9/10.4 MB 1.1 MB/s eta 0:00:05\n",
      "     ---------------------- ----------------- 5.9/10.4 MB 1.1 MB/s eta 0:00:05\n",
      "     ----------------------- ---------------- 6.0/10.4 MB 1.1 MB/s eta 0:00:05\n",
      "     ----------------------- ---------------- 6.1/10.4 MB 1.1 MB/s eta 0:00:04\n",
      "     ----------------------- ---------------- 6.1/10.4 MB 1.1 MB/s eta 0:00:04\n",
      "     ------------------------ --------------- 6.2/10.4 MB 1.1 MB/s eta 0:00:04\n",
      "     ------------------------ --------------- 6.3/10.4 MB 1.1 MB/s eta 0:00:04\n",
      "     ------------------------ --------------- 6.4/10.4 MB 1.1 MB/s eta 0:00:04\n",
      "     ------------------------ --------------- 6.4/10.4 MB 1.1 MB/s eta 0:00:04\n",
      "     ------------------------- -------------- 6.5/10.4 MB 1.1 MB/s eta 0:00:04\n",
      "     ------------------------- -------------- 6.6/10.4 MB 1.1 MB/s eta 0:00:04\n",
      "     ------------------------- -------------- 6.6/10.4 MB 1.1 MB/s eta 0:00:04\n",
      "     ------------------------- -------------- 6.7/10.4 MB 1.1 MB/s eta 0:00:04\n",
      "     -------------------------- ------------- 6.8/10.4 MB 1.1 MB/s eta 0:00:04\n",
      "     -------------------------- ------------- 6.9/10.4 MB 1.1 MB/s eta 0:00:04\n",
      "     -------------------------- ------------- 6.9/10.4 MB 1.1 MB/s eta 0:00:04\n",
      "     --------------------------- ------------ 7.0/10.4 MB 1.1 MB/s eta 0:00:04\n",
      "     --------------------------- ------------ 7.1/10.4 MB 1.1 MB/s eta 0:00:03\n",
      "     --------------------------- ------------ 7.2/10.4 MB 1.1 MB/s eta 0:00:03\n",
      "     --------------------------- ------------ 7.2/10.4 MB 1.1 MB/s eta 0:00:03\n",
      "     ---------------------------- ----------- 7.3/10.4 MB 1.1 MB/s eta 0:00:03\n",
      "     ---------------------------- ----------- 7.3/10.4 MB 1.1 MB/s eta 0:00:03\n",
      "     ---------------------------- ----------- 7.4/10.4 MB 1.1 MB/s eta 0:00:03\n",
      "     ---------------------------- ----------- 7.4/10.4 MB 1.1 MB/s eta 0:00:03\n",
      "     ---------------------------- ----------- 7.5/10.4 MB 1.1 MB/s eta 0:00:03\n",
      "     ----------------------------- ---------- 7.5/10.4 MB 1.1 MB/s eta 0:00:03\n",
      "     ----------------------------- ---------- 7.6/10.4 MB 1.1 MB/s eta 0:00:03\n",
      "     ----------------------------- ---------- 7.7/10.4 MB 1.1 MB/s eta 0:00:03\n",
      "     ----------------------------- ---------- 7.7/10.4 MB 1.1 MB/s eta 0:00:03\n",
      "     ------------------------------ --------- 7.8/10.4 MB 1.1 MB/s eta 0:00:03\n",
      "     ------------------------------ --------- 7.9/10.4 MB 1.1 MB/s eta 0:00:03\n",
      "     ------------------------------ --------- 7.9/10.4 MB 1.1 MB/s eta 0:00:03\n",
      "     ------------------------------ --------- 7.9/10.4 MB 1.1 MB/s eta 0:00:03\n",
      "     ------------------------------ --------- 8.0/10.4 MB 1.1 MB/s eta 0:00:03\n",
      "     ------------------------------- -------- 8.1/10.4 MB 1.1 MB/s eta 0:00:03\n",
      "     ------------------------------- -------- 8.2/10.4 MB 1.1 MB/s eta 0:00:03\n",
      "     ------------------------------- -------- 8.2/10.4 MB 1.1 MB/s eta 0:00:02\n",
      "     -------------------------------- ------- 8.3/10.4 MB 1.1 MB/s eta 0:00:02\n",
      "     -------------------------------- ------- 8.4/10.4 MB 1.1 MB/s eta 0:00:02\n",
      "     -------------------------------- ------- 8.4/10.4 MB 1.1 MB/s eta 0:00:02\n",
      "     -------------------------------- ------- 8.5/10.4 MB 1.1 MB/s eta 0:00:02\n",
      "     --------------------------------- ------ 8.6/10.4 MB 1.1 MB/s eta 0:00:02\n",
      "     --------------------------------- ------ 8.6/10.4 MB 1.1 MB/s eta 0:00:02\n",
      "     --------------------------------- ------ 8.7/10.4 MB 1.1 MB/s eta 0:00:02\n",
      "     --------------------------------- ------ 8.8/10.4 MB 1.1 MB/s eta 0:00:02\n",
      "     ---------------------------------- ----- 8.8/10.4 MB 1.1 MB/s eta 0:00:02\n",
      "     ---------------------------------- ----- 8.9/10.4 MB 1.1 MB/s eta 0:00:02\n",
      "     ---------------------------------- ----- 9.0/10.4 MB 1.1 MB/s eta 0:00:02\n",
      "     ----------------------------------- ---- 9.1/10.4 MB 1.1 MB/s eta 0:00:02\n",
      "     ----------------------------------- ---- 9.1/10.4 MB 1.1 MB/s eta 0:00:02\n",
      "     ----------------------------------- ---- 9.2/10.4 MB 1.1 MB/s eta 0:00:01\n",
      "     ------------------------------------ --- 9.3/10.4 MB 1.1 MB/s eta 0:00:01\n",
      "     ------------------------------------ --- 9.4/10.4 MB 1.1 MB/s eta 0:00:01\n",
      "     ------------------------------------ --- 9.5/10.4 MB 1.1 MB/s eta 0:00:01\n",
      "     ------------------------------------ --- 9.5/10.4 MB 1.1 MB/s eta 0:00:01\n",
      "     ------------------------------------- -- 9.6/10.4 MB 1.1 MB/s eta 0:00:01\n",
      "     ------------------------------------- -- 9.7/10.4 MB 1.2 MB/s eta 0:00:01\n",
      "     ------------------------------------- -- 9.8/10.4 MB 1.2 MB/s eta 0:00:01\n",
      "     -------------------------------------- - 9.9/10.4 MB 1.2 MB/s eta 0:00:01\n",
      "     -------------------------------------- - 10.0/10.4 MB 1.2 MB/s eta 0:00:01\n",
      "     -------------------------------------- - 10.0/10.4 MB 1.2 MB/s eta 0:00:01\n",
      "     ---------------------------------------  10.1/10.4 MB 1.2 MB/s eta 0:00:01\n",
      "     ---------------------------------------  10.2/10.4 MB 1.2 MB/s eta 0:00:01\n",
      "     ---------------------------------------  10.3/10.4 MB 1.2 MB/s eta 0:00:01\n",
      "     ---------------------------------------  10.4/10.4 MB 1.2 MB/s eta 0:00:01\n",
      "     ---------------------------------------  10.4/10.4 MB 1.2 MB/s eta 0:00:01\n",
      "     ---------------------------------------  10.4/10.4 MB 1.2 MB/s eta 0:00:01\n",
      "     ---------------------------------------- 10.4/10.4 MB 1.2 MB/s eta 0:00:00\n",
      "Collecting numpy>=1.21.0\n",
      "  Downloading numpy-1.24.2-cp310-cp310-win_amd64.whl (14.8 MB)\n",
      "     ---------------------------------------- 0.0/14.8 MB ? eta -:--:--\n",
      "     ---------------------------------------- 0.1/14.8 MB 2.0 MB/s eta 0:00:08\n",
      "     ---------------------------------------- 0.2/14.8 MB 2.1 MB/s eta 0:00:07\n",
      "      --------------------------------------- 0.3/14.8 MB 2.0 MB/s eta 0:00:08\n",
      "      --------------------------------------- 0.4/14.8 MB 1.9 MB/s eta 0:00:08\n",
      "     - -------------------------------------- 0.5/14.8 MB 2.0 MB/s eta 0:00:08\n",
      "     - -------------------------------------- 0.6/14.8 MB 2.0 MB/s eta 0:00:07\n",
      "     - -------------------------------------- 0.6/14.8 MB 1.8 MB/s eta 0:00:08\n",
      "     - -------------------------------------- 0.7/14.8 MB 1.9 MB/s eta 0:00:08\n",
      "     -- ------------------------------------- 0.8/14.8 MB 1.9 MB/s eta 0:00:08\n",
      "     -- ------------------------------------- 0.9/14.8 MB 1.9 MB/s eta 0:00:08\n",
      "     -- ------------------------------------- 1.0/14.8 MB 1.8 MB/s eta 0:00:08\n",
      "     -- ------------------------------------- 1.0/14.8 MB 1.7 MB/s eta 0:00:09\n",
      "     -- ------------------------------------- 1.1/14.8 MB 1.7 MB/s eta 0:00:08\n",
      "     --- ------------------------------------ 1.1/14.8 MB 1.7 MB/s eta 0:00:08\n",
      "     --- ------------------------------------ 1.2/14.8 MB 1.6 MB/s eta 0:00:09\n",
      "     --- ------------------------------------ 1.2/14.8 MB 1.6 MB/s eta 0:00:09\n",
      "     --- ------------------------------------ 1.2/14.8 MB 1.6 MB/s eta 0:00:09\n",
      "     --- ------------------------------------ 1.3/14.8 MB 1.5 MB/s eta 0:00:10\n",
      "     --- ------------------------------------ 1.3/14.8 MB 1.4 MB/s eta 0:00:10\n",
      "     --- ------------------------------------ 1.4/14.8 MB 1.4 MB/s eta 0:00:10\n",
      "     --- ------------------------------------ 1.4/14.8 MB 1.3 MB/s eta 0:00:11\n",
      "     --- ------------------------------------ 1.5/14.8 MB 1.3 MB/s eta 0:00:11\n",
      "     ---- ----------------------------------- 1.5/14.8 MB 1.3 MB/s eta 0:00:11\n",
      "     ---- ----------------------------------- 1.5/14.8 MB 1.3 MB/s eta 0:00:11\n",
      "     ---- ----------------------------------- 1.6/14.8 MB 1.3 MB/s eta 0:00:11\n",
      "     ---- ----------------------------------- 1.6/14.8 MB 1.3 MB/s eta 0:00:11\n",
      "     ---- ----------------------------------- 1.6/14.8 MB 1.2 MB/s eta 0:00:12\n",
      "     ---- ----------------------------------- 1.6/14.8 MB 1.2 MB/s eta 0:00:12\n",
      "     ---- ----------------------------------- 1.7/14.8 MB 1.2 MB/s eta 0:00:12\n",
      "     ---- ----------------------------------- 1.7/14.8 MB 1.1 MB/s eta 0:00:12\n",
      "     ---- ----------------------------------- 1.8/14.8 MB 1.1 MB/s eta 0:00:12\n",
      "     ---- ----------------------------------- 1.8/14.8 MB 1.1 MB/s eta 0:00:12\n",
      "     ---- ----------------------------------- 1.8/14.8 MB 1.1 MB/s eta 0:00:12\n",
      "     ----- ---------------------------------- 1.9/14.8 MB 1.1 MB/s eta 0:00:12\n",
      "     ----- ---------------------------------- 1.9/14.8 MB 1.1 MB/s eta 0:00:12\n",
      "     ----- ---------------------------------- 1.9/14.8 MB 1.1 MB/s eta 0:00:12\n",
      "     ----- ---------------------------------- 2.0/14.8 MB 1.1 MB/s eta 0:00:12\n",
      "     ----- ---------------------------------- 2.0/14.8 MB 1.1 MB/s eta 0:00:13\n",
      "     ----- ---------------------------------- 2.1/14.8 MB 1.1 MB/s eta 0:00:12\n",
      "     ----- ---------------------------------- 2.1/14.8 MB 1.1 MB/s eta 0:00:13\n",
      "     ----- ---------------------------------- 2.2/14.8 MB 1.1 MB/s eta 0:00:13\n",
      "     ----- ---------------------------------- 2.2/14.8 MB 1.1 MB/s eta 0:00:13\n",
      "     ------ --------------------------------- 2.2/14.8 MB 1.1 MB/s eta 0:00:12\n",
      "     ------ --------------------------------- 2.3/14.8 MB 1.0 MB/s eta 0:00:13\n",
      "     ------ --------------------------------- 2.4/14.8 MB 1.0 MB/s eta 0:00:12\n",
      "     ------ --------------------------------- 2.4/14.8 MB 1.0 MB/s eta 0:00:12\n",
      "     ------ --------------------------------- 2.5/14.8 MB 1.0 MB/s eta 0:00:12\n",
      "     ------ --------------------------------- 2.5/14.8 MB 1.0 MB/s eta 0:00:12\n",
      "     ------ --------------------------------- 2.6/14.8 MB 1.0 MB/s eta 0:00:12\n",
      "     ------- -------------------------------- 2.6/14.8 MB 1.0 MB/s eta 0:00:12\n",
      "     ------- -------------------------------- 2.7/14.8 MB 1.0 MB/s eta 0:00:12\n",
      "     ------- -------------------------------- 2.7/14.8 MB 1.0 MB/s eta 0:00:12\n",
      "     ------- -------------------------------- 2.8/14.8 MB 1.1 MB/s eta 0:00:12\n",
      "     ------- -------------------------------- 2.8/14.8 MB 1.0 MB/s eta 0:00:12\n",
      "     ------- -------------------------------- 2.9/14.8 MB 1.1 MB/s eta 0:00:12\n",
      "     ------- -------------------------------- 3.0/14.8 MB 1.1 MB/s eta 0:00:12\n",
      "     -------- ------------------------------- 3.0/14.8 MB 1.1 MB/s eta 0:00:12\n",
      "     -------- ------------------------------- 3.1/14.8 MB 1.1 MB/s eta 0:00:12\n",
      "     -------- ------------------------------- 3.2/14.8 MB 1.1 MB/s eta 0:00:11\n",
      "     -------- ------------------------------- 3.2/14.8 MB 1.1 MB/s eta 0:00:11\n",
      "     -------- ------------------------------- 3.3/14.8 MB 1.1 MB/s eta 0:00:11\n",
      "     -------- ------------------------------- 3.3/14.8 MB 1.1 MB/s eta 0:00:11\n",
      "     --------- ------------------------------ 3.4/14.8 MB 1.1 MB/s eta 0:00:11\n",
      "     --------- ------------------------------ 3.4/14.8 MB 1.1 MB/s eta 0:00:11\n",
      "     --------- ------------------------------ 3.5/14.8 MB 1.1 MB/s eta 0:00:11\n",
      "     --------- ------------------------------ 3.5/14.8 MB 1.1 MB/s eta 0:00:11\n",
      "     --------- ------------------------------ 3.6/14.8 MB 1.1 MB/s eta 0:00:11\n",
      "     --------- ------------------------------ 3.7/14.8 MB 1.1 MB/s eta 0:00:11\n",
      "     --------- ------------------------------ 3.7/14.8 MB 1.1 MB/s eta 0:00:11\n",
      "     ---------- ----------------------------- 3.7/14.8 MB 1.1 MB/s eta 0:00:11\n",
      "     ---------- ----------------------------- 3.7/14.8 MB 1.1 MB/s eta 0:00:11\n",
      "     ---------- ----------------------------- 3.8/14.8 MB 1.1 MB/s eta 0:00:11\n",
      "     ---------- ----------------------------- 3.9/14.8 MB 1.1 MB/s eta 0:00:11\n",
      "     ---------- ----------------------------- 3.9/14.8 MB 1.1 MB/s eta 0:00:11\n",
      "     ---------- ----------------------------- 3.9/14.8 MB 1.0 MB/s eta 0:00:11\n",
      "     ---------- ----------------------------- 4.0/14.8 MB 1.0 MB/s eta 0:00:11\n",
      "     ---------- ----------------------------- 4.0/14.8 MB 1.0 MB/s eta 0:00:11\n",
      "     ---------- ----------------------------- 4.1/14.8 MB 1.0 MB/s eta 0:00:11\n",
      "     ----------- ---------------------------- 4.1/14.8 MB 1.0 MB/s eta 0:00:11\n",
      "     ----------- ---------------------------- 4.2/14.8 MB 1.0 MB/s eta 0:00:11\n",
      "     ----------- ---------------------------- 4.2/14.8 MB 1.0 MB/s eta 0:00:11\n",
      "     ----------- ---------------------------- 4.3/14.8 MB 1.0 MB/s eta 0:00:11\n",
      "     ----------- ---------------------------- 4.3/14.8 MB 1.0 MB/s eta 0:00:11\n",
      "     ----------- ---------------------------- 4.4/14.8 MB 1.0 MB/s eta 0:00:11\n",
      "     ----------- ---------------------------- 4.4/14.8 MB 1.0 MB/s eta 0:00:11\n",
      "     ------------ --------------------------- 4.5/14.8 MB 1.0 MB/s eta 0:00:11\n",
      "     ------------ --------------------------- 4.5/14.8 MB 1.0 MB/s eta 0:00:10\n",
      "     ------------ --------------------------- 4.6/14.8 MB 1.0 MB/s eta 0:00:10\n",
      "     ------------ --------------------------- 4.7/14.8 MB 1.0 MB/s eta 0:00:10\n",
      "     ------------ --------------------------- 4.7/14.8 MB 1.0 MB/s eta 0:00:10\n",
      "     ------------ --------------------------- 4.8/14.8 MB 1.0 MB/s eta 0:00:10\n",
      "     ------------- -------------------------- 4.9/14.8 MB 1.0 MB/s eta 0:00:10\n",
      "     ------------- -------------------------- 4.9/14.8 MB 1.0 MB/s eta 0:00:10\n",
      "     ------------- -------------------------- 5.0/14.8 MB 1.0 MB/s eta 0:00:10\n",
      "     ------------- -------------------------- 5.1/14.8 MB 1.0 MB/s eta 0:00:10\n",
      "     ------------- -------------------------- 5.1/14.8 MB 1.0 MB/s eta 0:00:10\n",
      "     ------------- -------------------------- 5.2/14.8 MB 1.0 MB/s eta 0:00:10\n",
      "     -------------- ------------------------- 5.3/14.8 MB 1.0 MB/s eta 0:00:10\n",
      "     -------------- ------------------------- 5.3/14.8 MB 1.0 MB/s eta 0:00:10\n",
      "     -------------- ------------------------- 5.4/14.8 MB 1.1 MB/s eta 0:00:09\n",
      "     -------------- ------------------------- 5.5/14.8 MB 1.1 MB/s eta 0:00:09\n",
      "     -------------- ------------------------- 5.6/14.8 MB 1.1 MB/s eta 0:00:09\n",
      "     --------------- ------------------------ 5.6/14.8 MB 1.1 MB/s eta 0:00:09\n",
      "     --------------- ------------------------ 5.7/14.8 MB 1.1 MB/s eta 0:00:09\n",
      "     --------------- ------------------------ 5.8/14.8 MB 1.1 MB/s eta 0:00:09\n",
      "     --------------- ------------------------ 5.9/14.8 MB 1.1 MB/s eta 0:00:09\n",
      "     ---------------- ----------------------- 6.0/14.8 MB 1.1 MB/s eta 0:00:09\n",
      "     ---------------- ----------------------- 6.0/14.8 MB 1.1 MB/s eta 0:00:09\n",
      "     ---------------- ----------------------- 6.1/14.8 MB 1.1 MB/s eta 0:00:09\n",
      "     ---------------- ----------------------- 6.2/14.8 MB 1.1 MB/s eta 0:00:08\n",
      "     ---------------- ----------------------- 6.3/14.8 MB 1.1 MB/s eta 0:00:08\n",
      "     ----------------- ---------------------- 6.3/14.8 MB 1.1 MB/s eta 0:00:08\n",
      "     ----------------- ---------------------- 6.4/14.8 MB 1.1 MB/s eta 0:00:08\n",
      "     ----------------- ---------------------- 6.5/14.8 MB 1.1 MB/s eta 0:00:08\n",
      "     ----------------- ---------------------- 6.6/14.8 MB 1.1 MB/s eta 0:00:08\n",
      "     ------------------ --------------------- 6.7/14.8 MB 1.1 MB/s eta 0:00:08\n",
      "     ------------------ --------------------- 6.8/14.8 MB 1.1 MB/s eta 0:00:08\n",
      "     ------------------ --------------------- 6.9/14.8 MB 1.1 MB/s eta 0:00:08\n",
      "     ------------------ --------------------- 7.0/14.8 MB 1.1 MB/s eta 0:00:07\n",
      "     ------------------- -------------------- 7.1/14.8 MB 1.1 MB/s eta 0:00:07\n",
      "     ------------------- -------------------- 7.2/14.8 MB 1.1 MB/s eta 0:00:07\n",
      "     ------------------- -------------------- 7.3/14.8 MB 1.2 MB/s eta 0:00:07\n",
      "     ------------------- -------------------- 7.4/14.8 MB 1.2 MB/s eta 0:00:07\n",
      "     -------------------- ------------------- 7.5/14.8 MB 1.2 MB/s eta 0:00:07\n",
      "     -------------------- ------------------- 7.5/14.8 MB 1.2 MB/s eta 0:00:07\n",
      "     -------------------- ------------------- 7.7/14.8 MB 1.2 MB/s eta 0:00:07\n",
      "     -------------------- ------------------- 7.8/14.8 MB 1.2 MB/s eta 0:00:06\n",
      "     --------------------- ------------------ 7.9/14.8 MB 1.2 MB/s eta 0:00:06\n",
      "     --------------------- ------------------ 8.0/14.8 MB 1.2 MB/s eta 0:00:06\n",
      "     --------------------- ------------------ 8.1/14.8 MB 1.2 MB/s eta 0:00:06\n",
      "     --------------------- ------------------ 8.2/14.8 MB 1.2 MB/s eta 0:00:06\n",
      "     ---------------------- ----------------- 8.3/14.8 MB 1.2 MB/s eta 0:00:06\n",
      "     ---------------------- ----------------- 8.4/14.8 MB 1.2 MB/s eta 0:00:06\n",
      "     ---------------------- ----------------- 8.5/14.8 MB 1.2 MB/s eta 0:00:06\n",
      "     ----------------------- ---------------- 8.6/14.8 MB 1.2 MB/s eta 0:00:06\n",
      "     ----------------------- ---------------- 8.7/14.8 MB 1.2 MB/s eta 0:00:05\n",
      "     ----------------------- ---------------- 8.8/14.8 MB 1.2 MB/s eta 0:00:05\n",
      "     ------------------------ --------------- 8.9/14.8 MB 1.2 MB/s eta 0:00:05\n",
      "     ------------------------ --------------- 9.0/14.8 MB 1.3 MB/s eta 0:00:05\n",
      "     ------------------------ --------------- 9.1/14.8 MB 1.3 MB/s eta 0:00:05\n",
      "     ------------------------ --------------- 9.2/14.8 MB 1.3 MB/s eta 0:00:05\n",
      "     ------------------------- -------------- 9.3/14.8 MB 1.3 MB/s eta 0:00:05\n",
      "     ------------------------- -------------- 9.5/14.8 MB 1.3 MB/s eta 0:00:05\n",
      "     ------------------------- -------------- 9.6/14.8 MB 1.3 MB/s eta 0:00:05\n",
      "     -------------------------- ------------- 9.7/14.8 MB 1.3 MB/s eta 0:00:04\n",
      "     -------------------------- ------------- 9.8/14.8 MB 1.3 MB/s eta 0:00:04\n",
      "     -------------------------- ------------- 10.0/14.8 MB 1.3 MB/s eta 0:00:04\n",
      "     --------------------------- ------------ 10.1/14.8 MB 1.3 MB/s eta 0:00:04\n",
      "     --------------------------- ------------ 10.2/14.8 MB 1.3 MB/s eta 0:00:04\n",
      "     --------------------------- ------------ 10.3/14.8 MB 1.3 MB/s eta 0:00:04\n",
      "     ---------------------------- ----------- 10.4/14.8 MB 1.3 MB/s eta 0:00:04\n",
      "     ---------------------------- ----------- 10.4/14.8 MB 1.3 MB/s eta 0:00:04\n",
      "     ---------------------------- ----------- 10.7/14.8 MB 1.3 MB/s eta 0:00:04\n",
      "     ----------------------------- ---------- 10.8/14.8 MB 1.3 MB/s eta 0:00:04\n",
      "     ----------------------------- ---------- 10.8/14.8 MB 1.3 MB/s eta 0:00:03\n",
      "     ----------------------------- ---------- 10.9/14.8 MB 1.3 MB/s eta 0:00:03\n",
      "     ----------------------------- ---------- 11.0/14.8 MB 1.3 MB/s eta 0:00:03\n",
      "     ------------------------------ --------- 11.1/14.8 MB 1.3 MB/s eta 0:00:03\n",
      "     ------------------------------ --------- 11.2/14.8 MB 1.3 MB/s eta 0:00:03\n",
      "     ------------------------------ --------- 11.2/14.8 MB 1.3 MB/s eta 0:00:03\n",
      "     ------------------------------ --------- 11.3/14.8 MB 1.3 MB/s eta 0:00:03\n",
      "     ------------------------------ --------- 11.5/14.8 MB 1.4 MB/s eta 0:00:03\n",
      "     ------------------------------- -------- 11.6/14.8 MB 1.4 MB/s eta 0:00:03\n",
      "     ------------------------------- -------- 11.6/14.8 MB 1.4 MB/s eta 0:00:03\n",
      "     ------------------------------- -------- 11.8/14.8 MB 1.4 MB/s eta 0:00:03\n",
      "     ------------------------------- -------- 11.9/14.8 MB 1.4 MB/s eta 0:00:03\n",
      "     -------------------------------- ------- 12.0/14.8 MB 1.4 MB/s eta 0:00:02\n",
      "     -------------------------------- ------- 12.1/14.8 MB 1.5 MB/s eta 0:00:02\n",
      "     -------------------------------- ------- 12.1/14.8 MB 1.5 MB/s eta 0:00:02\n",
      "     -------------------------------- ------- 12.2/14.8 MB 1.5 MB/s eta 0:00:02\n",
      "     --------------------------------- ------ 12.3/14.8 MB 1.5 MB/s eta 0:00:02\n",
      "     --------------------------------- ------ 12.4/14.8 MB 1.5 MB/s eta 0:00:02\n",
      "     --------------------------------- ------ 12.5/14.8 MB 1.5 MB/s eta 0:00:02\n",
      "     --------------------------------- ------ 12.6/14.8 MB 1.5 MB/s eta 0:00:02\n",
      "     ---------------------------------- ----- 12.7/14.8 MB 1.5 MB/s eta 0:00:02\n",
      "     ---------------------------------- ----- 12.7/14.8 MB 1.5 MB/s eta 0:00:02\n",
      "     ---------------------------------- ----- 12.8/14.8 MB 1.5 MB/s eta 0:00:02\n",
      "     ---------------------------------- ----- 12.9/14.8 MB 1.5 MB/s eta 0:00:02\n",
      "     ---------------------------------- ----- 13.0/14.8 MB 1.5 MB/s eta 0:00:02\n",
      "     ----------------------------------- ---- 13.0/14.8 MB 1.5 MB/s eta 0:00:02\n",
      "     ----------------------------------- ---- 13.1/14.8 MB 1.6 MB/s eta 0:00:02\n",
      "     ----------------------------------- ---- 13.2/14.8 MB 1.6 MB/s eta 0:00:02\n",
      "     ----------------------------------- ---- 13.3/14.8 MB 1.6 MB/s eta 0:00:02\n",
      "     ----------------------------------- ---- 13.3/14.8 MB 1.6 MB/s eta 0:00:01\n",
      "     ------------------------------------ --- 13.4/14.8 MB 1.6 MB/s eta 0:00:01\n",
      "     ------------------------------------ --- 13.5/14.8 MB 1.6 MB/s eta 0:00:01\n",
      "     ------------------------------------ --- 13.6/14.8 MB 1.6 MB/s eta 0:00:01\n",
      "     ------------------------------------ --- 13.7/14.8 MB 1.6 MB/s eta 0:00:01\n",
      "     ------------------------------------- -- 13.8/14.8 MB 1.6 MB/s eta 0:00:01\n",
      "     ------------------------------------- -- 13.9/14.8 MB 1.6 MB/s eta 0:00:01\n",
      "     ------------------------------------- -- 14.1/14.8 MB 1.6 MB/s eta 0:00:01\n",
      "     -------------------------------------- - 14.2/14.8 MB 1.7 MB/s eta 0:00:01\n",
      "     -------------------------------------- - 14.3/14.8 MB 1.7 MB/s eta 0:00:01\n",
      "     -------------------------------------- - 14.4/14.8 MB 1.7 MB/s eta 0:00:01\n",
      "     -------------------------------------- - 14.4/14.8 MB 1.7 MB/s eta 0:00:01\n",
      "     ---------------------------------------  14.5/14.8 MB 1.7 MB/s eta 0:00:01\n",
      "     ---------------------------------------  14.6/14.8 MB 1.7 MB/s eta 0:00:01\n",
      "     ---------------------------------------  14.7/14.8 MB 1.7 MB/s eta 0:00:01\n",
      "     ---------------------------------------  14.8/14.8 MB 1.7 MB/s eta 0:00:01\n",
      "     ---------------------------------------  14.8/14.8 MB 1.7 MB/s eta 0:00:01\n",
      "     ---------------------------------------  14.8/14.8 MB 1.7 MB/s eta 0:00:01\n",
      "     ---------------------------------------  14.8/14.8 MB 1.7 MB/s eta 0:00:01\n",
      "     ---------------------------------------  14.8/14.8 MB 1.7 MB/s eta 0:00:01\n",
      "     ---------------------------------------- 14.8/14.8 MB 1.7 MB/s eta 0:00:00\n",
      "Collecting pytz>=2020.1\n",
      "  Downloading pytz-2022.7.1-py2.py3-none-any.whl (499 kB)\n",
      "     ---------------------------------------- 0.0/499.4 kB ? eta -:--:--\n",
      "     ------- ------------------------------- 92.2/499.4 kB 2.6 MB/s eta 0:00:01\n",
      "     -------------- ----------------------- 194.6/499.4 kB 2.0 MB/s eta 0:00:01\n",
      "     --------------------- ---------------- 276.5/499.4 kB 1.9 MB/s eta 0:00:01\n",
      "     --------------------------- ---------- 358.4/499.4 kB 1.7 MB/s eta 0:00:01\n",
      "     ------------------------------- ------ 419.8/499.4 kB 1.8 MB/s eta 0:00:01\n",
      "     -------------------------------------  491.5/499.4 kB 1.7 MB/s eta 0:00:01\n",
      "     -------------------------------------  491.5/499.4 kB 1.7 MB/s eta 0:00:01\n",
      "     -------------------------------------- 499.4/499.4 kB 1.2 MB/s eta 0:00:00\n",
      "Requirement already satisfied: python-dateutil>=2.8.1 in c:\\users\\cc5 lab\\desktop\\gistfeb\\projects\\merkhasif\\lib\\site-packages (from pandas) (2.8.2)\n",
      "Requirement already satisfied: six>=1.5 in c:\\users\\cc5 lab\\desktop\\gistfeb\\projects\\merkhasif\\lib\\site-packages (from python-dateutil>=2.8.1->pandas) (1.16.0)\n",
      "Installing collected packages: pytz, numpy, pandas\n",
      "Successfully installed numpy-1.24.2 pandas-1.5.3 pytz-2022.7.1\n"
     ]
    }
   ],
   "source": [
    "#!pip install pandas"
   ]
  },
  {
   "cell_type": "code",
   "execution_count": 73,
   "id": "f48df7d0",
   "metadata": {},
   "outputs": [],
   "source": [
    "import pandas as pd"
   ]
  },
  {
   "cell_type": "code",
   "execution_count": 79,
   "id": "0af26cf6",
   "metadata": {},
   "outputs": [
    {
     "data": {
      "text/html": [
       "<div>\n",
       "<style scoped>\n",
       "    .dataframe tbody tr th:only-of-type {\n",
       "        vertical-align: middle;\n",
       "    }\n",
       "\n",
       "    .dataframe tbody tr th {\n",
       "        vertical-align: top;\n",
       "    }\n",
       "\n",
       "    .dataframe thead th {\n",
       "        text-align: right;\n",
       "    }\n",
       "</style>\n",
       "<table border=\"1\" class=\"dataframe\">\n",
       "  <thead>\n",
       "    <tr style=\"text-align: right;\">\n",
       "      <th></th>\n",
       "      <th>Prop_Name</th>\n",
       "      <th>Price</th>\n",
       "      <th>Status</th>\n",
       "    </tr>\n",
       "  </thead>\n",
       "  <tbody>\n",
       "    <tr>\n",
       "      <th>0</th>\n",
       "      <td>2 BHK Apartment in VBHC Palmhaven II Block A</td>\n",
       "      <td>48 L</td>\n",
       "      <td>Under Construction</td>\n",
       "    </tr>\n",
       "    <tr>\n",
       "      <th>1</th>\n",
       "      <td>2 BHK Apartment in Pariwar Wise Palmsprings</td>\n",
       "      <td>68.38 L</td>\n",
       "      <td>Under Construction</td>\n",
       "    </tr>\n",
       "    <tr>\n",
       "      <th>2</th>\n",
       "      <td>3 BHK Apartment in CasaGrand Casagrand Meridian</td>\n",
       "      <td>1.18 Cr</td>\n",
       "      <td>Under Construction</td>\n",
       "    </tr>\n",
       "    <tr>\n",
       "      <th>3</th>\n",
       "      <td>2 BHK Apartment in Suraksha Heritage Park</td>\n",
       "      <td>73.85 L</td>\n",
       "      <td>Under Construction</td>\n",
       "    </tr>\n",
       "    <tr>\n",
       "      <th>4</th>\n",
       "      <td>2 BHK Apartment in Kumar Prospera</td>\n",
       "      <td>91.85 L</td>\n",
       "      <td>Under Construction</td>\n",
       "    </tr>\n",
       "    <tr>\n",
       "      <th>5</th>\n",
       "      <td>2 BHK Apartment in Bavisha Singature Homes</td>\n",
       "      <td>41.84 L</td>\n",
       "      <td>Under Construction</td>\n",
       "    </tr>\n",
       "    <tr>\n",
       "      <th>6</th>\n",
       "      <td>3 BHK Apartment in Abhi Star Light</td>\n",
       "      <td>70.81 L</td>\n",
       "      <td>Under Construction</td>\n",
       "    </tr>\n",
       "    <tr>\n",
       "      <th>7</th>\n",
       "      <td>2 BHK Apartment in Pratham Zen Indraprastha by...</td>\n",
       "      <td>1.25 Cr</td>\n",
       "      <td>Ready to move</td>\n",
       "    </tr>\n",
       "    <tr>\n",
       "      <th>8</th>\n",
       "      <td>3 BHK Apartment in Assetz CANVAS &amp; COVE</td>\n",
       "      <td>88 L</td>\n",
       "      <td>Under Construction</td>\n",
       "    </tr>\n",
       "    <tr>\n",
       "      <th>9</th>\n",
       "      <td>3 BHK Apartment in Sairam Sai Gangothri Hill C...</td>\n",
       "      <td>67 L</td>\n",
       "      <td>Under Construction</td>\n",
       "    </tr>\n",
       "    <tr>\n",
       "      <th>10</th>\n",
       "      <td>2 BHK Apartment in Saroj Blue bells</td>\n",
       "      <td>73.01 L</td>\n",
       "      <td>Under Construction</td>\n",
       "    </tr>\n",
       "    <tr>\n",
       "      <th>11</th>\n",
       "      <td>Residential Plot in Ambika Serene Square</td>\n",
       "      <td>31.71 L</td>\n",
       "      <td>New</td>\n",
       "    </tr>\n",
       "    <tr>\n",
       "      <th>12</th>\n",
       "      <td>Residential Plot in Icon Grand Icon Phase 2</td>\n",
       "      <td>85.59 L</td>\n",
       "      <td>New</td>\n",
       "    </tr>\n",
       "    <tr>\n",
       "      <th>13</th>\n",
       "      <td>Residential Plot in Saroj Whispering Winds</td>\n",
       "      <td>32.3 L</td>\n",
       "      <td>New</td>\n",
       "    </tr>\n",
       "    <tr>\n",
       "      <th>14</th>\n",
       "      <td>2 BHK Apartment in Mana Macasa Emerald</td>\n",
       "      <td>83.87 L</td>\n",
       "      <td>Under Construction</td>\n",
       "    </tr>\n",
       "    <tr>\n",
       "      <th>15</th>\n",
       "      <td>Residential Plot in Guru Punvaanii Guru Punvaa...</td>\n",
       "      <td>30 L</td>\n",
       "      <td>New</td>\n",
       "    </tr>\n",
       "    <tr>\n",
       "      <th>16</th>\n",
       "      <td>3 BHK Apartment in Navami Landmaark</td>\n",
       "      <td>1.33 Cr</td>\n",
       "      <td>Under Construction</td>\n",
       "    </tr>\n",
       "    <tr>\n",
       "      <th>17</th>\n",
       "      <td>Residential Plot in Bluejay Uttar</td>\n",
       "      <td>64.18 L</td>\n",
       "      <td>New</td>\n",
       "    </tr>\n",
       "    <tr>\n",
       "      <th>18</th>\n",
       "      <td>Residential Plot in Nayak Golden Fields</td>\n",
       "      <td>56 L</td>\n",
       "      <td>New</td>\n",
       "    </tr>\n",
       "    <tr>\n",
       "      <th>19</th>\n",
       "      <td>2 BHK Apartment in Inner Urban Eco Space</td>\n",
       "      <td>34.01 L</td>\n",
       "      <td>Ready to move</td>\n",
       "    </tr>\n",
       "  </tbody>\n",
       "</table>\n",
       "</div>"
      ],
      "text/plain": [
       "                                            Prop_Name    Price  \\\n",
       "0        2 BHK Apartment in VBHC Palmhaven II Block A     48 L   \n",
       "1         2 BHK Apartment in Pariwar Wise Palmsprings  68.38 L   \n",
       "2     3 BHK Apartment in CasaGrand Casagrand Meridian  1.18 Cr   \n",
       "3           2 BHK Apartment in Suraksha Heritage Park  73.85 L   \n",
       "4                   2 BHK Apartment in Kumar Prospera  91.85 L   \n",
       "5          2 BHK Apartment in Bavisha Singature Homes  41.84 L   \n",
       "6                  3 BHK Apartment in Abhi Star Light  70.81 L   \n",
       "7   2 BHK Apartment in Pratham Zen Indraprastha by...  1.25 Cr   \n",
       "8             3 BHK Apartment in Assetz CANVAS & COVE     88 L   \n",
       "9   3 BHK Apartment in Sairam Sai Gangothri Hill C...     67 L   \n",
       "10                2 BHK Apartment in Saroj Blue bells  73.01 L   \n",
       "11           Residential Plot in Ambika Serene Square  31.71 L   \n",
       "12        Residential Plot in Icon Grand Icon Phase 2  85.59 L   \n",
       "13         Residential Plot in Saroj Whispering Winds   32.3 L   \n",
       "14             2 BHK Apartment in Mana Macasa Emerald  83.87 L   \n",
       "15  Residential Plot in Guru Punvaanii Guru Punvaa...     30 L   \n",
       "16                3 BHK Apartment in Navami Landmaark  1.33 Cr   \n",
       "17                  Residential Plot in Bluejay Uttar  64.18 L   \n",
       "18            Residential Plot in Nayak Golden Fields     56 L   \n",
       "19           2 BHK Apartment in Inner Urban Eco Space  34.01 L   \n",
       "\n",
       "                Status  \n",
       "0   Under Construction  \n",
       "1   Under Construction  \n",
       "2   Under Construction  \n",
       "3   Under Construction  \n",
       "4   Under Construction  \n",
       "5   Under Construction  \n",
       "6   Under Construction  \n",
       "7        Ready to move  \n",
       "8   Under Construction  \n",
       "9   Under Construction  \n",
       "10  Under Construction  \n",
       "11                 New  \n",
       "12                 New  \n",
       "13                 New  \n",
       "14  Under Construction  \n",
       "15                 New  \n",
       "16  Under Construction  \n",
       "17                 New  \n",
       "18                 New  \n",
       "19       Ready to move  "
      ]
     },
     "execution_count": 79,
     "metadata": {},
     "output_type": "execute_result"
    }
   ],
   "source": [
    "final_data = pd.DataFrame({'Prop_Name':names,'Price':price,\n",
    "                           'Status':status})\n",
    "final_data"
   ]
  },
  {
   "cell_type": "code",
   "execution_count": 81,
   "id": "cbd45dbe",
   "metadata": {},
   "outputs": [
    {
     "name": "stdout",
     "output_type": "stream",
     "text": [
      "https://www.makaan.com/bangalore-residential-property/buy-property-in-bangalore-city?page2\n",
      "https://www.makaan.com/bangalore-residential-property/buy-property-in-bangalore-city?page3\n",
      "https://www.makaan.com/bangalore-residential-property/buy-property-in-bangalore-city?page4\n",
      "https://www.makaan.com/bangalore-residential-property/buy-property-in-bangalore-city?page5\n",
      "https://www.makaan.com/bangalore-residential-property/buy-property-in-bangalore-city?page6\n",
      "https://www.makaan.com/bangalore-residential-property/buy-property-in-bangalore-city?page7\n",
      "https://www.makaan.com/bangalore-residential-property/buy-property-in-bangalore-city?page8\n",
      "https://www.makaan.com/bangalore-residential-property/buy-property-in-bangalore-city?page9\n",
      "https://www.makaan.com/bangalore-residential-property/buy-property-in-bangalore-city?page10\n",
      "https://www.makaan.com/bangalore-residential-property/buy-property-in-bangalore-city?page11\n",
      "https://www.makaan.com/bangalore-residential-property/buy-property-in-bangalore-city?page12\n",
      "https://www.makaan.com/bangalore-residential-property/buy-property-in-bangalore-city?page13\n",
      "https://www.makaan.com/bangalore-residential-property/buy-property-in-bangalore-city?page14\n",
      "https://www.makaan.com/bangalore-residential-property/buy-property-in-bangalore-city?page15\n",
      "https://www.makaan.com/bangalore-residential-property/buy-property-in-bangalore-city?page16\n",
      "https://www.makaan.com/bangalore-residential-property/buy-property-in-bangalore-city?page17\n",
      "https://www.makaan.com/bangalore-residential-property/buy-property-in-bangalore-city?page18\n",
      "https://www.makaan.com/bangalore-residential-property/buy-property-in-bangalore-city?page19\n",
      "https://www.makaan.com/bangalore-residential-property/buy-property-in-bangalore-city?page20\n"
     ]
    }
   ],
   "source": [
    "base_url=\"https://www.makaan.com/bangalore-residential-property/buy-property-in-bangalore-city?page\"\n",
    "for i in range(2,21):\n",
    "    url = base_url + str(i)\n",
    "    print(url)"
   ]
  },
  {
   "cell_type": "code",
   "execution_count": null,
   "id": "792e39d9",
   "metadata": {},
   "outputs": [],
   "source": []
  }
 ],
 "metadata": {
  "kernelspec": {
   "display_name": "Python 3 (ipykernel)",
   "language": "python",
   "name": "python3"
  },
  "language_info": {
   "codemirror_mode": {
    "name": "ipython",
    "version": 3
   },
   "file_extension": ".py",
   "mimetype": "text/x-python",
   "name": "python",
   "nbconvert_exporter": "python",
   "pygments_lexer": "ipython3",
   "version": "3.10.7"
  }
 },
 "nbformat": 4,
 "nbformat_minor": 5
}
