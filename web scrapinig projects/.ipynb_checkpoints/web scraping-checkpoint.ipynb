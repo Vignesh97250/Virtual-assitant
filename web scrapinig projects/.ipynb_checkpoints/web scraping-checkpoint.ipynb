{
 "cells": [
  {
   "cell_type": "code",
   "execution_count": 1,
   "id": "4276b7c8",
   "metadata": {},
   "outputs": [
    {
     "data": {
      "text/plain": [
       "6"
      ]
     },
     "execution_count": 1,
     "metadata": {},
     "output_type": "execute_result"
    }
   ],
   "source": [
    "2+4"
   ]
  },
  {
   "cell_type": "markdown",
   "id": "f24447f3",
   "metadata": {},
   "source": [
    "# web scraping"
   ]
  },
  {
   "cell_type": "markdown",
   "id": "6136f397",
   "metadata": {},
   "source": [
    " Working on Web scraoing"
   ]
  },
  {
   "cell_type": "markdown",
   "id": "65e67f09",
   "metadata": {},
   "source": [
    "4 steps we follow in Web Scraping\n",
    "1)We connect to webpage (static/dynamic)\n"
   ]
  },
  {
   "cell_type": "code",
   "execution_count": 2,
   "id": "c6f3d13e",
   "metadata": {},
   "outputs": [],
   "source": [
    "#!pip install requests"
   ]
  },
  {
   "cell_type": "code",
   "execution_count": 3,
   "id": "74956e2f",
   "metadata": {},
   "outputs": [],
   "source": [
    "#!pip install bs4"
   ]
  },
  {
   "cell_type": "code",
   "execution_count": 4,
   "id": "5b164be8",
   "metadata": {},
   "outputs": [],
   "source": [
    "import requests\n",
    "import bs4"
   ]
  },
  {
   "cell_type": "code",
   "execution_count": 7,
   "id": "05111168",
   "metadata": {},
   "outputs": [],
   "source": [
    "#help(requests)\n",
    "#help(bs4)"
   ]
  },
  {
   "cell_type": "code",
   "execution_count": 8,
   "id": "ad99b8e7",
   "metadata": {},
   "outputs": [],
   "source": [
    "from bs4 import BeautifulSoup"
   ]
  },
  {
   "cell_type": "code",
   "execution_count": 9,
   "id": "ffe67cef",
   "metadata": {},
   "outputs": [],
   "source": [
    "#Let's choose our dynamic website\n",
    "url = \"https://www.makaan.com/bangalore-residential-property/buy-property-in-bangalore-city\""
   ]
  },
  {
   "cell_type": "code",
   "execution_count": 12,
   "id": "e630d888",
   "metadata": {},
   "outputs": [
    {
     "data": {
      "text/plain": [
       "<Response [200]>"
      ]
     },
     "execution_count": 12,
     "metadata": {},
     "output_type": "execute_result"
    }
   ],
   "source": [
    "#Connect to the website\n",
    "data = requests.get(url)\n",
    "data"
   ]
  },
  {
   "cell_type": "code",
   "execution_count": 14,
   "id": "1843cf03",
   "metadata": {},
   "outputs": [
    {
     "data": {
      "text/plain": [
       "str"
      ]
     },
     "execution_count": 14,
     "metadata": {},
     "output_type": "execute_result"
    }
   ],
   "source": [
    "data.text\n",
    "type(data.text)"
   ]
  },
  {
   "cell_type": "code",
   "execution_count": 16,
   "id": "843e1681",
   "metadata": {},
   "outputs": [
    {
     "data": {
      "text/plain": [
       "bs4.BeautifulSoup"
      ]
     },
     "execution_count": 16,
     "metadata": {},
     "output_type": "execute_result"
    }
   ],
   "source": [
    "soup =BeautifulSoup(data.text,'html')\n",
    "soup\n",
    "type(soup)"
   ]
  },
  {
   "cell_type": "code",
   "execution_count": 24,
   "id": "0923dd05",
   "metadata": {},
   "outputs": [
    {
     "data": {
      "text/plain": [
       "'2 BHK Apartment in VBHC Palmhaven II Block A'"
      ]
     },
     "execution_count": 24,
     "metadata": {},
     "output_type": "execute_result"
    }
   ],
   "source": [
    "g = soup.find('div',attrs={'class':'title-line'}).text\n",
    "g"
   ]
  },
  {
   "cell_type": "code",
   "execution_count": 26,
   "id": "89b07630",
   "metadata": {},
   "outputs": [
    {
     "data": {
      "text/plain": [
       "'48 L'"
      ]
     },
     "execution_count": 26,
     "metadata": {},
     "output_type": "execute_result"
    }
   ],
   "source": [
    "h =soup.find('div',attrs={'data-type':'price-link'}).text.strip()\n",
    "h"
   ]
  },
  {
   "cell_type": "code",
   "execution_count": 34,
   "id": "f0640882",
   "metadata": {},
   "outputs": [
    {
     "data": {
      "text/plain": [
       "'Under Construction'"
      ]
     },
     "execution_count": 34,
     "metadata": {},
     "output_type": "execute_result"
    }
   ],
   "source": [
    "j = soup.find('td',attrs={'class':'val'}).text\n",
    "j"
   ]
  },
  {
   "cell_type": "code",
   "execution_count": 36,
   "id": "83c4246b",
   "metadata": {},
   "outputs": [
    {
     "data": {
      "text/plain": [
       "'902'"
      ]
     },
     "execution_count": 36,
     "metadata": {},
     "output_type": "execute_result"
    }
   ],
   "source": [
    "j = soup.find('td',attrs={'class':'size'}).text.strip()\n",
    "j\n"
   ]
  },
  {
   "cell_type": "code",
   "execution_count": 37,
   "id": "61c16a3e",
   "metadata": {},
   "outputs": [
    {
     "data": {
      "text/plain": [
       "'home'"
      ]
     },
     "execution_count": 37,
     "metadata": {},
     "output_type": "execute_result"
    }
   ],
   "source": [
    "l = soup.find('span',attrs={'itemprop':'name'}).text\n",
    "l"
   ]
  },
  {
   "cell_type": "code",
   "execution_count": 39,
   "id": "ad04c51c",
   "metadata": {},
   "outputs": [],
   "source": [
    "#name = soup.find_all('div',attrs={'class':'title-line'}).text\n",
    "#name"
   ]
  },
  {
   "cell_type": "code",
   "execution_count": 40,
   "id": "14c082ff",
   "metadata": {},
   "outputs": [
    {
     "name": "stdout",
     "output_type": "stream",
     "text": [
      "20\n"
     ]
    }
   ],
   "source": [
    "s = soup.find_all('div',attrs={'class':'title-line'})\n",
    "print(len(s))"
   ]
  },
  {
   "cell_type": "markdown",
   "id": "6afecb79",
   "metadata": {},
   "source": []
  },
  {
   "cell_type": "code",
   "execution_count": null,
   "id": "3a9d25fa",
   "metadata": {},
   "outputs": [],
   "source": []
  }
 ],
 "metadata": {
  "kernelspec": {
   "display_name": "Python 3 (ipykernel)",
   "language": "python",
   "name": "python3"
  },
  "language_info": {
   "codemirror_mode": {
    "name": "ipython",
    "version": 3
   },
   "file_extension": ".py",
   "mimetype": "text/x-python",
   "name": "python",
   "nbconvert_exporter": "python",
   "pygments_lexer": "ipython3",
   "version": "3.10.7"
  }
 },
 "nbformat": 4,
 "nbformat_minor": 5
}
